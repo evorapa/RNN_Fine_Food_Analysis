{
 "cells": [
  {
   "cell_type": "code",
   "execution_count": 1,
   "metadata": {},
   "outputs": [
    {
     "data": {
      "text/plain": [
       "0    1\n",
       "1    0\n",
       "2    1\n",
       "3    0\n",
       "4    1\n",
       "Name: Score, dtype: int64"
      ]
     },
     "execution_count": 1,
     "metadata": {},
     "output_type": "execute_result"
    },
    {
     "data": {
      "image/png": "[encoded data removed]",
      "text/plain": [
       "<matplotlib.figure.Figure at 0x7fb4fc56c358>"
      ]
     },
     "metadata": {},
     "output_type": "display_data"
    }
   ],
   "source": [
    "%matplotlib inline\n",
    "import matplotlib.pyplot as plt\n",
    "import pandas as pd\n",
    "import boto\n",
    "import tflearn\n",
    "import numpy as np\n",
    "# import seaborn as sns\n",
    "from tflearn.data_utils import to_categorical, pad_sequences, load_csv\n",
    "from string import punctuation\n",
    "from sklearn.model_selection import StratifiedShuffleSplit, train_test_split\n",
    "\n",
    "# Defaults for pandas\n",
    "pd.set_option('display.max_colwidth',1000)\n",
    "\n",
    "# Load data from S3\n",
    "original_review = pd.read_csv('s3a://amazon-fine-food-dataset/Reviews.csv')\n",
    "\n",
    "# Analysis of data\n",
    "s = pd.Series(original_review.Score)\n",
    "s.describe()\n",
    "s_counts = s.value_counts()\n",
    "plt.bar(s_counts.index.tolist(), s_counts.values, align='center')\n",
    "plt.title('Score Distribution')\n",
    "\n",
    "# Data Preprocessing\n",
    "temp = original_review.loc[:,[\"Text\",\"Score\"]]\n",
    "temp = temp[temp.Score != 3]\n",
    "\n",
    "def partition(x):\n",
    "    if x < 3:\n",
    "        return 0\n",
    "    return 1\n",
    "\n",
    "# Partition the data by 1-3 and 4-5 \n",
    "Score = temp['Score']\n",
    "Score = Score.map(partition)\n",
    "Text = temp['Text']\n",
    "Score.head()\n",
    "\n",
    "\n",
    "# Removes punctuations in texts\n",
    "# reviews = temp.Text.values\n",
    "# labels = np.array(Score.values)\n",
    "# reviews_cleaned = []\n",
    "\n",
    "#for i in range(len(reviews)):\n",
    "#    reviews_cleaned.append(''.join([c.lower() for c in reviews[i] if c not in punctuation]))\n",
    "\n",
    "# new code start here\n",
    "\n",
    "\n",
    "\n",
    "\n",
    "\n",
    "\n",
    "\n"
   ]
  },
  {
   "cell_type": "code",
   "execution_count": 2,
   "metadata": {},
   "outputs": [
    {
     "data": {
      "text/plain": [
       "<matplotlib.text.Text at 0x7fb4870c7b70>"
      ]
     },
     "execution_count": 2,
     "metadata": {},
     "output_type": "execute_result"
    },
    {
     "data": {
      "image/png": "[encoded data removed]",
      "text/plain": [
       "<matplotlib.figure.Figure at 0x7fb4fc5afc88>"
      ]
     },
     "metadata": {},
     "output_type": "display_data"
    }
   ],
   "source": [
    "\n",
    "Score_counts = pd.Series(Score).value_counts()\n",
    "plt.bar(Score_counts.index.tolist(), Score_counts.values, align='center')\n",
    "plt.title('Sentiment Positive vs Negative Distribution')"
   ]
  },
  {
   "cell_type": "code",
   "execution_count": 3,
   "metadata": {},
   "outputs": [
    {
     "data": {
      "text/plain": [
       "157999                                                                                     [53666, 99111, 74469, 98805, 80325, 88301, 98776, 63223, 56559, 91775, 56559, 23069, 72856, 42737, 25277, 57800, 31915, 70332, 9522, 73241, 96705, 9522, 106609, 93997, 47220, 56559, 9927, 30794, 7924, 70480, 36703, 98805, 95339, 7924, 87161, 71909, 90562, 21341, 38167, 25277]\n",
       "172079                                                                                                                                                                                                               [53666, 88100, 44700, 45813, 94978, 45015, 45813, 94978, 72412, 45813, 94978, 89489, 64757, 45813, 94978, 49716, 56559, 97728, 57800, 61120, 45813, 94978]\n",
       "360782                                                                                                                                                                                                  [53666, 71986, 104100, 102062, 64528, 99293, 97960, 17520, 7924, 48501, 78692, 23692, 70332, 37533, 37996, 70332, 4674, 17440, 22886, 70332, 4674, 19541, 97960, 42391]\n",
       "390652                                                                                                                                                                                                                                                                        [67614, 71450, 98996, 30361, 9096, 49038, 92074, 59668, 4674, 61557, 43983, 108493, 98805, 23552]\n",
       "495890    [70332, 28936, 98805, 79076, 71450, 99160, 71038, 6266, 72773, 21517, 22886, 98805, 30220, 71450, 98805, 22564, 72407, 7924, 98805, 80934, 71450, 98805, 71046, 63223, 56559, 108493, 41013, 18708, 98996, 106609, 106944, 38357, 82678, 66057, 47932, 45312, 106609, 45015, 98805, 31387, 51969, 40669, 99920, 50920, 43161, 53167, 7924, 30382, 99920, 4674, 91406]\n",
       "Name: Text, dtype: object"
      ]
     },
     "execution_count": 3,
     "metadata": {},
     "output_type": "execute_result"
    }
   ],
   "source": [
    "X_train, X_test, y_train, y_test = train_test_split(Text, Score, test_size=0.1, random_state=42)\n",
    "\n",
    "from sklearn.feature_extraction.text import CountVectorizer\n",
    "# Don't understand this token pattern\n",
    "vect = CountVectorizer(ngram_range=(1,1), token_pattern=r'\\b\\w{1,}\\b')\n",
    "vect.fit(X_train)\n",
    "vocab = vect.vocabulary_\n",
    "def convert_X_to_X_word_ids(X):\n",
    "    return X.apply(lambda x: [vocab[w] for w in [w.lower().strip() for w in x.split()] if w in vocab])\n",
    "\n",
    "X_train_word_ids = convert_X_to_X_word_ids(X_train)\n",
    "X_test_word_ids = convert_X_to_X_word_ids(X_test)\n",
    "\n",
    "# See diff b/w X_train and X_train_words_ids\n",
    "X_train.head()\n",
    "X_train_word_ids.head()\n"
   ]
  },
  {
   "cell_type": "code",
   "execution_count": 4,
   "metadata": {},
   "outputs": [
    {
     "data": {
      "text/plain": [
       "(52582,)"
      ]
     },
     "execution_count": 4,
     "metadata": {},
     "output_type": "execute_result"
    }
   ],
   "source": [
    "X_train_word_ids.shape\n",
    "X_test_word_ids.shape"
   ]
  },
  {
   "cell_type": "code",
   "execution_count": 5,
   "metadata": {},
   "outputs": [
    {
     "name": "stdout",
     "output_type": "stream",
     "text": [
      "Shortest review: 0\n",
      "Longest revies: 1843\n"
     ]
    }
   ],
   "source": [
    "review_lengths = [len(review) for review in X_train_word_ids]\n",
    "print(\"Shortest review:\", min(review_lengths))\n",
    "print(\"Longest revies:\",max(review_lengths))"
   ]
  },
  {
   "cell_type": "code",
   "execution_count": 6,
   "metadata": {},
   "outputs": [
    {
     "data": {
      "text/html": [
       "<div>\n",
       "<table border=\"1\" class=\"dataframe\">\n",
       "  <thead>\n",
       "    <tr style=\"text-align: right;\">\n",
       "      <th></th>\n",
       "      <th>0</th>\n",
       "    </tr>\n",
       "  </thead>\n",
       "  <tbody>\n",
       "    <tr>\n",
       "      <th>count</th>\n",
       "      <td>473232.000000</td>\n",
       "    </tr>\n",
       "    <tr>\n",
       "      <th>mean</th>\n",
       "      <td>66.252094</td>\n",
       "    </tr>\n",
       "    <tr>\n",
       "      <th>std</th>\n",
       "      <td>64.730703</td>\n",
       "    </tr>\n",
       "    <tr>\n",
       "      <th>min</th>\n",
       "      <td>0.000000</td>\n",
       "    </tr>\n",
       "    <tr>\n",
       "      <th>25%</th>\n",
       "      <td>28.000000</td>\n",
       "    </tr>\n",
       "    <tr>\n",
       "      <th>50%</th>\n",
       "      <td>47.000000</td>\n",
       "    </tr>\n",
       "    <tr>\n",
       "      <th>75%</th>\n",
       "      <td>81.000000</td>\n",
       "    </tr>\n",
       "    <tr>\n",
       "      <th>max</th>\n",
       "      <td>1843.000000</td>\n",
       "    </tr>\n",
       "  </tbody>\n",
       "</table>\n",
       "</div>"
      ],
      "text/plain": [
       "                   0\n",
       "count  473232.000000\n",
       "mean       66.252094\n",
       "std        64.730703\n",
       "min         0.000000\n",
       "25%        28.000000\n",
       "50%        47.000000\n",
       "75%        81.000000\n",
       "max      1843.000000"
      ]
     },
     "execution_count": 6,
     "metadata": {},
     "output_type": "execute_result"
    }
   ],
   "source": [
    "pd.DataFrame(review_lengths).describe()"
   ]
  },
  {
   "cell_type": "code",
   "execution_count": 7,
   "metadata": {},
   "outputs": [
    {
     "data": {
      "text/plain": [
       "(473232, 100)"
      ]
     },
     "execution_count": 7,
     "metadata": {},
     "output_type": "execute_result"
    }
   ],
   "source": [
    "\n",
    "max_length = 100\n",
    "X_train_padded_seqs = pad_sequences(X_train_word_ids, maxlen=max_length, value=0)\n",
    "X_test_padded_seqs = pad_sequences(X_test_word_ids, maxlen=max_length, value=0)\n",
    "\n",
    "X_train_padded_seqs.shape\n"
   ]
  },
  {
   "cell_type": "code",
   "execution_count": 8,
   "metadata": {},
   "outputs": [
    {
     "data": {
      "text/plain": [
       "(52582, 100)"
      ]
     },
     "execution_count": 8,
     "metadata": {},
     "output_type": "execute_result"
    }
   ],
   "source": [
    "X_test_padded_seqs.shape"
   ]
  },
  {
   "cell_type": "code",
   "execution_count": 9,
   "metadata": {},
   "outputs": [
    {
     "data": {
      "text/html": [
       "<div>\n",
       "<table border=\"1\" class=\"dataframe\">\n",
       "  <thead>\n",
       "    <tr style=\"text-align: right;\">\n",
       "      <th></th>\n",
       "      <th>0</th>\n",
       "      <th>1</th>\n",
       "      <th>2</th>\n",
       "      <th>3</th>\n",
       "      <th>4</th>\n",
       "      <th>5</th>\n",
       "      <th>6</th>\n",
       "      <th>7</th>\n",
       "      <th>8</th>\n",
       "      <th>9</th>\n",
       "      <th>...</th>\n",
       "      <th>90</th>\n",
       "      <th>91</th>\n",
       "      <th>92</th>\n",
       "      <th>93</th>\n",
       "      <th>94</th>\n",
       "      <th>95</th>\n",
       "      <th>96</th>\n",
       "      <th>97</th>\n",
       "      <th>98</th>\n",
       "      <th>99</th>\n",
       "    </tr>\n",
       "  </thead>\n",
       "  <tbody>\n",
       "    <tr>\n",
       "      <th>0</th>\n",
       "      <td>53666</td>\n",
       "      <td>99111</td>\n",
       "      <td>74469</td>\n",
       "      <td>98805</td>\n",
       "      <td>80325</td>\n",
       "      <td>88301</td>\n",
       "      <td>98776</td>\n",
       "      <td>63223</td>\n",
       "      <td>56559</td>\n",
       "      <td>91775</td>\n",
       "      <td>...</td>\n",
       "      <td>0</td>\n",
       "      <td>0</td>\n",
       "      <td>0</td>\n",
       "      <td>0</td>\n",
       "      <td>0</td>\n",
       "      <td>0</td>\n",
       "      <td>0</td>\n",
       "      <td>0</td>\n",
       "      <td>0</td>\n",
       "      <td>0</td>\n",
       "    </tr>\n",
       "    <tr>\n",
       "      <th>1</th>\n",
       "      <td>53666</td>\n",
       "      <td>88100</td>\n",
       "      <td>44700</td>\n",
       "      <td>45813</td>\n",
       "      <td>94978</td>\n",
       "      <td>45015</td>\n",
       "      <td>45813</td>\n",
       "      <td>94978</td>\n",
       "      <td>72412</td>\n",
       "      <td>45813</td>\n",
       "      <td>...</td>\n",
       "      <td>0</td>\n",
       "      <td>0</td>\n",
       "      <td>0</td>\n",
       "      <td>0</td>\n",
       "      <td>0</td>\n",
       "      <td>0</td>\n",
       "      <td>0</td>\n",
       "      <td>0</td>\n",
       "      <td>0</td>\n",
       "      <td>0</td>\n",
       "    </tr>\n",
       "    <tr>\n",
       "      <th>2</th>\n",
       "      <td>53666</td>\n",
       "      <td>71986</td>\n",
       "      <td>104100</td>\n",
       "      <td>102062</td>\n",
       "      <td>64528</td>\n",
       "      <td>99293</td>\n",
       "      <td>97960</td>\n",
       "      <td>17520</td>\n",
       "      <td>7924</td>\n",
       "      <td>48501</td>\n",
       "      <td>...</td>\n",
       "      <td>0</td>\n",
       "      <td>0</td>\n",
       "      <td>0</td>\n",
       "      <td>0</td>\n",
       "      <td>0</td>\n",
       "      <td>0</td>\n",
       "      <td>0</td>\n",
       "      <td>0</td>\n",
       "      <td>0</td>\n",
       "      <td>0</td>\n",
       "    </tr>\n",
       "    <tr>\n",
       "      <th>3</th>\n",
       "      <td>67614</td>\n",
       "      <td>71450</td>\n",
       "      <td>98996</td>\n",
       "      <td>30361</td>\n",
       "      <td>9096</td>\n",
       "      <td>49038</td>\n",
       "      <td>92074</td>\n",
       "      <td>59668</td>\n",
       "      <td>4674</td>\n",
       "      <td>61557</td>\n",
       "      <td>...</td>\n",
       "      <td>0</td>\n",
       "      <td>0</td>\n",
       "      <td>0</td>\n",
       "      <td>0</td>\n",
       "      <td>0</td>\n",
       "      <td>0</td>\n",
       "      <td>0</td>\n",
       "      <td>0</td>\n",
       "      <td>0</td>\n",
       "      <td>0</td>\n",
       "    </tr>\n",
       "    <tr>\n",
       "      <th>4</th>\n",
       "      <td>70332</td>\n",
       "      <td>28936</td>\n",
       "      <td>98805</td>\n",
       "      <td>79076</td>\n",
       "      <td>71450</td>\n",
       "      <td>99160</td>\n",
       "      <td>71038</td>\n",
       "      <td>6266</td>\n",
       "      <td>72773</td>\n",
       "      <td>21517</td>\n",
       "      <td>...</td>\n",
       "      <td>0</td>\n",
       "      <td>0</td>\n",
       "      <td>0</td>\n",
       "      <td>0</td>\n",
       "      <td>0</td>\n",
       "      <td>0</td>\n",
       "      <td>0</td>\n",
       "      <td>0</td>\n",
       "      <td>0</td>\n",
       "      <td>0</td>\n",
       "    </tr>\n",
       "  </tbody>\n",
       "</table>\n",
       "<p>5 rows × 100 columns</p>\n",
       "</div>"
      ],
      "text/plain": [
       "      0      1       2       3      4      5      6      7      8      9  ...  \\\n",
       "0  53666  99111   74469   98805  80325  88301  98776  63223  56559  91775 ...   \n",
       "1  53666  88100   44700   45813  94978  45015  45813  94978  72412  45813 ...   \n",
       "2  53666  71986  104100  102062  64528  99293  97960  17520   7924  48501 ...   \n",
       "3  67614  71450   98996   30361   9096  49038  92074  59668   4674  61557 ...   \n",
       "4  70332  28936   98805   79076  71450  99160  71038   6266  72773  21517 ...   \n",
       "\n",
       "   90  91  92  93  94  95  96  97  98  99  \n",
       "0   0   0   0   0   0   0   0   0   0   0  \n",
       "1   0   0   0   0   0   0   0   0   0   0  \n",
       "2   0   0   0   0   0   0   0   0   0   0  \n",
       "3   0   0   0   0   0   0   0   0   0   0  \n",
       "4   0   0   0   0   0   0   0   0   0   0  \n",
       "\n",
       "[5 rows x 100 columns]"
      ]
     },
     "execution_count": 9,
     "metadata": {},
     "output_type": "execute_result"
    }
   ],
   "source": [
    "pd.DataFrame(X_train_padded_seqs).head()\n"
   ]
  },
  {
   "cell_type": "code",
   "execution_count": 10,
   "metadata": {},
   "outputs": [
    {
     "data": {
      "text/html": [
       "<div>\n",
       "<table border=\"1\" class=\"dataframe\">\n",
       "  <thead>\n",
       "    <tr style=\"text-align: right;\">\n",
       "      <th></th>\n",
       "      <th>0</th>\n",
       "      <th>1</th>\n",
       "      <th>2</th>\n",
       "      <th>3</th>\n",
       "      <th>4</th>\n",
       "      <th>5</th>\n",
       "      <th>6</th>\n",
       "      <th>7</th>\n",
       "      <th>8</th>\n",
       "      <th>9</th>\n",
       "      <th>...</th>\n",
       "      <th>90</th>\n",
       "      <th>91</th>\n",
       "      <th>92</th>\n",
       "      <th>93</th>\n",
       "      <th>94</th>\n",
       "      <th>95</th>\n",
       "      <th>96</th>\n",
       "      <th>97</th>\n",
       "      <th>98</th>\n",
       "      <th>99</th>\n",
       "    </tr>\n",
       "  </thead>\n",
       "  <tbody>\n",
       "    <tr>\n",
       "      <th>0</th>\n",
       "      <td>99160</td>\n",
       "      <td>56422</td>\n",
       "      <td>4674</td>\n",
       "      <td>105093</td>\n",
       "      <td>51879</td>\n",
       "      <td>80934</td>\n",
       "      <td>36782</td>\n",
       "      <td>44596</td>\n",
       "      <td>107974</td>\n",
       "      <td>64829</td>\n",
       "      <td>...</td>\n",
       "      <td>9927</td>\n",
       "      <td>44700</td>\n",
       "      <td>22886</td>\n",
       "      <td>67946</td>\n",
       "      <td>25817</td>\n",
       "      <td>98738</td>\n",
       "      <td>72617</td>\n",
       "      <td>56559</td>\n",
       "      <td>100228</td>\n",
       "      <td>17440</td>\n",
       "    </tr>\n",
       "    <tr>\n",
       "      <th>1</th>\n",
       "      <td>53666</td>\n",
       "      <td>62234</td>\n",
       "      <td>99160</td>\n",
       "      <td>23367</td>\n",
       "      <td>66685</td>\n",
       "      <td>7924</td>\n",
       "      <td>98805</td>\n",
       "      <td>72773</td>\n",
       "      <td>2400</td>\n",
       "      <td>66695</td>\n",
       "      <td>...</td>\n",
       "      <td>0</td>\n",
       "      <td>0</td>\n",
       "      <td>0</td>\n",
       "      <td>0</td>\n",
       "      <td>0</td>\n",
       "      <td>0</td>\n",
       "      <td>0</td>\n",
       "      <td>0</td>\n",
       "      <td>0</td>\n",
       "      <td>0</td>\n",
       "    </tr>\n",
       "    <tr>\n",
       "      <th>2</th>\n",
       "      <td>4674</td>\n",
       "      <td>69675</td>\n",
       "      <td>95019</td>\n",
       "      <td>53666</td>\n",
       "      <td>7395</td>\n",
       "      <td>69517</td>\n",
       "      <td>99920</td>\n",
       "      <td>58457</td>\n",
       "      <td>7924</td>\n",
       "      <td>50920</td>\n",
       "      <td>...</td>\n",
       "      <td>0</td>\n",
       "      <td>0</td>\n",
       "      <td>0</td>\n",
       "      <td>0</td>\n",
       "      <td>0</td>\n",
       "      <td>0</td>\n",
       "      <td>0</td>\n",
       "      <td>0</td>\n",
       "      <td>0</td>\n",
       "      <td>0</td>\n",
       "    </tr>\n",
       "    <tr>\n",
       "      <th>3</th>\n",
       "      <td>53666</td>\n",
       "      <td>57800</td>\n",
       "      <td>45015</td>\n",
       "      <td>74835</td>\n",
       "      <td>7924</td>\n",
       "      <td>74835</td>\n",
       "      <td>107974</td>\n",
       "      <td>26672</td>\n",
       "      <td>7924</td>\n",
       "      <td>53666</td>\n",
       "      <td>...</td>\n",
       "      <td>0</td>\n",
       "      <td>0</td>\n",
       "      <td>0</td>\n",
       "      <td>0</td>\n",
       "      <td>0</td>\n",
       "      <td>0</td>\n",
       "      <td>0</td>\n",
       "      <td>0</td>\n",
       "      <td>0</td>\n",
       "      <td>0</td>\n",
       "    </tr>\n",
       "    <tr>\n",
       "      <th>4</th>\n",
       "      <td>34028</td>\n",
       "      <td>66317</td>\n",
       "      <td>97960</td>\n",
       "      <td>9522</td>\n",
       "      <td>71930</td>\n",
       "      <td>108528</td>\n",
       "      <td>70350</td>\n",
       "      <td>98776</td>\n",
       "      <td>38167</td>\n",
       "      <td>97960</td>\n",
       "      <td>...</td>\n",
       "      <td>0</td>\n",
       "      <td>0</td>\n",
       "      <td>0</td>\n",
       "      <td>0</td>\n",
       "      <td>0</td>\n",
       "      <td>0</td>\n",
       "      <td>0</td>\n",
       "      <td>0</td>\n",
       "      <td>0</td>\n",
       "      <td>0</td>\n",
       "    </tr>\n",
       "  </tbody>\n",
       "</table>\n",
       "<p>5 rows × 100 columns</p>\n",
       "</div>"
      ],
      "text/plain": [
       "      0      1      2       3      4       5       6      7       8      9   \\\n",
       "0  99160  56422   4674  105093  51879   80934   36782  44596  107974  64829   \n",
       "1  53666  62234  99160   23367  66685    7924   98805  72773    2400  66695   \n",
       "2   4674  69675  95019   53666   7395   69517   99920  58457    7924  50920   \n",
       "3  53666  57800  45015   74835   7924   74835  107974  26672    7924  53666   \n",
       "4  34028  66317  97960    9522  71930  108528   70350  98776   38167  97960   \n",
       "\n",
       "   ...      90     91     92     93     94     95     96     97      98     99  \n",
       "0  ...    9927  44700  22886  67946  25817  98738  72617  56559  100228  17440  \n",
       "1  ...       0      0      0      0      0      0      0      0       0      0  \n",
       "2  ...       0      0      0      0      0      0      0      0       0      0  \n",
       "3  ...       0      0      0      0      0      0      0      0       0      0  \n",
       "4  ...       0      0      0      0      0      0      0      0       0      0  \n",
       "\n",
       "[5 rows x 100 columns]"
      ]
     },
     "execution_count": 10,
     "metadata": {},
     "output_type": "execute_result"
    }
   ],
   "source": [
    "pd.DataFrame(X_test_padded_seqs).head()"
   ]
  },
  {
   "cell_type": "code",
   "execution_count": 11,
   "metadata": {},
   "outputs": [
    {
     "data": {
      "text/plain": [
       "[1, 0]"
      ]
     },
     "execution_count": 11,
     "metadata": {},
     "output_type": "execute_result"
    }
   ],
   "source": [
    "unique_y_labels = list(y_train.value_counts().index)\n",
    "unique_y_labels"
   ]
  },
  {
   "cell_type": "code",
   "execution_count": 12,
   "metadata": {
    "collapsed": true
   },
   "outputs": [],
   "source": [
    "\n",
    "size_of_each_vector = X_train_padded_seqs.shape[1]\n",
    "vocab_size = len(vocab)\n",
    "no_of_unique_y_labels = len(unique_y_labels)\n",
    "#from sklearn import preprocessing\n",
    "#le = preprocessing.LabelEncoder()\n",
    "#le.fit(unique_y_labels)\n",
    "y_train= to_categorical(y_train, nb_classes=len(unique_y_labels))\n",
    "y_test= to_categorical(y_test, nb_classes=len(unique_y_labels))"
   ]
  },
  {
   "cell_type": "code",
   "execution_count": 13,
   "metadata": {},
   "outputs": [
    {
     "data": {
      "text/plain": [
       "(473232, 2)"
      ]
     },
     "execution_count": 13,
     "metadata": {},
     "output_type": "execute_result"
    }
   ],
   "source": [
    "y_train.shape"
   ]
  },
  {
   "cell_type": "code",
   "execution_count": 14,
   "metadata": {},
   "outputs": [
    {
     "data": {
      "text/plain": [
       "(52582, 2)"
      ]
     },
     "execution_count": 14,
     "metadata": {},
     "output_type": "execute_result"
    }
   ],
   "source": [
    "y_test.shape"
   ]
  },
  {
   "cell_type": "code",
   "execution_count": 15,
   "metadata": {},
   "outputs": [
    {
     "name": "stdout",
     "output_type": "stream",
     "text": [
      "Size_of_each_vector: 100 \n",
      "vocab_size: 110207 \n",
      "no_of_unique_y_labels: 2\n"
     ]
    }
   ],
   "source": [
    "print(\"Size_of_each_vector: {0} \\nvocab_size: {1} \\nno_of_unique_y_labels: {2}\".format(size_of_each_vector, vocab_size, no_of_unique_y_labels))"
   ]
  },
  {
   "cell_type": "code",
   "execution_count": 16,
   "metadata": {
    "collapsed": true
   },
   "outputs": [],
   "source": [
    "net = tflearn.input_data([None, max_length])\n",
    "net = tflearn.embedding(net, input_dim=vocab_size, output_dim=128)\n",
    "net = tflearn.lstm(net, 128, dropout=0.8)\n",
    "net = tflearn.fully_connected(net, no_of_unique_y_labels, activation='softmax')\n",
    "net = tflearn.regression(net, optimizer='adam', learning_rate=0.001,\n",
    "                         loss='categorical_crossentropy')\n",
    "model = tflearn.DNN(net, tensorboard_verbose=0)\n",
    "\n"
   ]
  },
  {
   "cell_type": "code",
   "execution_count": 17,
   "metadata": {},
   "outputs": [
    {
     "name": "stdout",
     "output_type": "stream",
     "text": [
      "Training Step: 23664  | total loss: \u001b[1m\u001b[32m0.06004\u001b[0m\u001b[0m | time: 885.840s\n",
      "| Adam | epoch: 005 | loss: 0.06004 - acc: 0.9848 -- iter: 473200/473232\n",
      "Training Step: 23665  | total loss: \u001b[1m\u001b[32m0.05922\u001b[0m\u001b[0m | time: 919.842s\n",
      "| Adam | epoch: 005 | loss: 0.05922 - acc: 0.9843 | val_loss: 0.15122 - val_acc: 0.9521 -- iter: 473232/473232\n",
      "--\n"
     ]
    }
   ],
   "source": [
    "model.fit(X_train_padded_seqs, y_train, validation_set=(X_test_padded_seqs, y_test), n_epoch=5, show_metric=True, batch_size=100)"
   ]
  },
  {
   "cell_type": "code",
   "execution_count": 19,
   "metadata": {},
   "outputs": [
    {
     "name": "stdout",
     "output_type": "stream",
     "text": [
      "INFO:tensorflow:/home/ubuntu/pynb/SavedModels/model1.tfl is not in all_model_checkpoint_paths. Manually adding it.\n",
      "Model Saved!\n"
     ]
    }
   ],
   "source": [
    "model.save('SavedModels/model1.tfl')\n",
    "print('Model Saved!')"
   ]
  },
  {
   "cell_type": "code",
   "execution_count": 20,
   "metadata": {},
   "outputs": [
    {
     "name": "stdout",
     "output_type": "stream",
     "text": [
      "INFO:tensorflow:Restoring parameters from /home/ubuntu/pynb/SavedModels/model1.tfl\n",
      "Model Loaded!\n"
     ]
    }
   ],
   "source": [
    "model.load('SavedModels/model1.tfl')\n",
    "print('Model Loaded!')\n",
    "from sklearn import metrics"
   ]
  },
  {
   "cell_type": "code",
   "execution_count": 21,
   "metadata": {},
   "outputs": [
    {
     "name": "stdout",
     "output_type": "stream",
     "text": [
      "\n",
      "RNN Classifier's Accuracy: 0.9520938724278271\n",
      "\n"
     ]
    }
   ],
   "source": [
    "pred_classes = [np.argmax(i) for i in model.predict(X_test_padded_seqs)]\n",
    "true_classes = [np.argmax(i) for i in y_test]\n",
    "\n",
    "print(\"\\nRNN Classifier\\'s Accuracy: {0}\\n\".format(metrics.accuracy_score(true_classes, pred_classes)))"
   ]
  },
  {
   "cell_type": "code",
   "execution_count": 26,
   "metadata": {},
   "outputs": [
    {
     "name": "stdout",
     "output_type": "stream",
     "text": [
      "F1 score: 0.9718052897261117\n"
     ]
    }
   ],
   "source": [
    "from sklearn.metrics import f1_score\n",
    "print(\"F1 score: {0}\".format(f1_score(true_classes, pred_classes)))"
   ]
  },
  {
   "cell_type": "code",
   "execution_count": 23,
   "metadata": {},
   "outputs": [
    {
     "name": "stdout",
     "output_type": "stream",
     "text": [
      "[[ 6651  1594]\n",
      " [  925 43412]]\n"
     ]
    }
   ],
   "source": [
    "from sklearn.metrics import confusion_matrix\n",
    "print(confusion_matrix(true_classes, pred_classes))"
   ]
  },
  {
   "cell_type": "code",
   "execution_count": 27,
   "metadata": {},
   "outputs": [
    {
     "name": "stdout",
     "output_type": "stream",
     "text": [
      "precision score: 0.9645825001110963 \n",
      "recall score: 0.9791370638518618\n"
     ]
    }
   ],
   "source": [
    "from sklearn.metrics import recall_score, precision_score\n",
    "print(\"precision score: {0} \\nrecall score: {1}\".format(precision_score(true_classes, pred_classes), recall_score(true_classes, pred_classes)))\n"
   ]
  },
  {
   "cell_type": "code",
   "execution_count": 31,
   "metadata": {},
   "outputs": [],
   "source": [
    "from sklearn.naive_bayes import MultinomialNB\n",
    "from sklearn.feature_extraction.text import TfidfVectorizer\n",
    "from sklearn.dummy import DummyClassifier\n",
    "from sklearn.pipeline import make_pipeline\n",
    "from sklearn.model_selection import cross_val_score\n",
    "\n",
    "vect = TfidfVectorizer(stop_words='english', \n",
    "                       token_pattern=r'\\b\\w{2,}\\b',\n",
    "                       min_df=1, max_df=0.1,\n",
    "                       ngram_range=(1,2))\n",
    "mnb = MultinomialNB(alpha=2)\n",
    "\n",
    "mnb_pipeline = make_pipeline(vect, mnb)"
   ]
  },
  {
   "cell_type": "code",
   "execution_count": 32,
   "metadata": {},
   "outputs": [
    {
     "data": {
      "text/plain": [
       "{'multinomialnb': MultinomialNB(alpha=2, class_prior=None, fit_prior=True),\n",
       " 'tfidfvectorizer': TfidfVectorizer(analyzer='word', binary=False, decode_error='strict',\n",
       "         dtype=<class 'numpy.int64'>, encoding='utf-8', input='content',\n",
       "         lowercase=True, max_df=0.1, max_features=None, min_df=1,\n",
       "         ngram_range=(1, 2), norm='l2', preprocessor=None, smooth_idf=True,\n",
       "         stop_words='english', strip_accents=None, sublinear_tf=False,\n",
       "         token_pattern='\\\\b\\\\w{2,}\\\\b', tokenizer=None, use_idf=True,\n",
       "         vocabulary=None)}"
      ]
     },
     "execution_count": 32,
     "metadata": {},
     "output_type": "execute_result"
    }
   ],
   "source": [
    "mnb_pipeline.named_steps"
   ]
  },
  {
   "cell_type": "code",
   "execution_count": 34,
   "metadata": {},
   "outputs": [
    {
     "name": "stdout",
     "output_type": "stream",
     "text": [
      "\n",
      "MultinomialNB Classifier's Accuracy: 0.8454833828780519\n",
      "\n"
     ]
    }
   ],
   "source": [
    "# Cross Validation\n",
    "cv = cross_val_score(mnb_pipeline, Text, Score, scoring='accuracy', cv=10, n_jobs=-1)\n",
    "print(\"\\nMultinomialNB Classifier\\'s Accuracy: {0}\\n\".format(cv.mean()))"
   ]
  },
  {
   "cell_type": "code",
   "execution_count": null,
   "metadata": {
    "collapsed": true
   },
   "outputs": [],
   "source": []
  }
 ],
 "metadata": {
  "hide_input": false,
  "kernelspec": {
   "display_name": "Python 3",
   "language": "python",
   "name": "python3"
  },
  "language_info": {
   "codemirror_mode": {
    "name": "ipython",
    "version": 3
   },
   "file_extension": ".py",
   "mimetype": "text/x-python",
   "name": "python",
   "nbconvert_exporter": "python",
   "pygments_lexer": "ipython3",
   "version": "3.4.3"
  }
 },
 "nbformat": 4,
 "nbformat_minor": 2
}
